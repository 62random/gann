{
 "cells": [
  {
   "cell_type": "code",
   "execution_count": 167,
   "metadata": {
    "collapsed": true,
    "pycharm": {
     "is_executing": false
    }
   },
   "outputs": [
    {
     "data": {
      "text/plain": "  birads age mass_shape mass_margin mass_density  cancer\n0      5  67          3           5            3       1\n1      4  43          1           1            ?       1\n2      5  58          4           5            3       1\n3      4  28          1           1            3       0\n4      5  74          1           5            ?       1",
      "text/html": "<div>\n<style scoped>\n    .dataframe tbody tr th:only-of-type {\n        vertical-align: middle;\n    }\n\n    .dataframe tbody tr th {\n        vertical-align: top;\n    }\n\n    .dataframe thead th {\n        text-align: right;\n    }\n</style>\n<table border=\"1\" class=\"dataframe\">\n  <thead>\n    <tr style=\"text-align: right;\">\n      <th></th>\n      <th>birads</th>\n      <th>age</th>\n      <th>mass_shape</th>\n      <th>mass_margin</th>\n      <th>mass_density</th>\n      <th>cancer</th>\n    </tr>\n  </thead>\n  <tbody>\n    <tr>\n      <th>0</th>\n      <td>5</td>\n      <td>67</td>\n      <td>3</td>\n      <td>5</td>\n      <td>3</td>\n      <td>1</td>\n    </tr>\n    <tr>\n      <th>1</th>\n      <td>4</td>\n      <td>43</td>\n      <td>1</td>\n      <td>1</td>\n      <td>?</td>\n      <td>1</td>\n    </tr>\n    <tr>\n      <th>2</th>\n      <td>5</td>\n      <td>58</td>\n      <td>4</td>\n      <td>5</td>\n      <td>3</td>\n      <td>1</td>\n    </tr>\n    <tr>\n      <th>3</th>\n      <td>4</td>\n      <td>28</td>\n      <td>1</td>\n      <td>1</td>\n      <td>3</td>\n      <td>0</td>\n    </tr>\n    <tr>\n      <th>4</th>\n      <td>5</td>\n      <td>74</td>\n      <td>1</td>\n      <td>5</td>\n      <td>?</td>\n      <td>1</td>\n    </tr>\n  </tbody>\n</table>\n</div>"
     },
     "metadata": {},
     "output_type": "execute_result",
     "execution_count": 167
    }
   ],
   "source": [
    "import pandas as pd\n",
    "import seaborn as sns\n",
    "import matplotlib.pyplot as plt\n",
    "import numpy as np\n",
    "\n",
    "df = pd.read_csv('../data/raw_data.csv')\n",
    "\n",
    "df.head()"
   ]
  },
  {
   "cell_type": "code",
   "execution_count": 168,
   "outputs": [
    {
     "name": "stdout",
     "text": [
      "Null values\n"
     ],
     "output_type": "stream"
    },
    {
     "data": {
      "text/plain": "<matplotlib.axes._subplots.AxesSubplot at 0x7f0565842710>"
     },
     "metadata": {},
     "output_type": "execute_result",
     "execution_count": 168
    },
    {
     "data": {
      "text/plain": "<Figure size 432x288 with 1 Axes>",
      "image/png": "[encoded data removed]"
     },
     "metadata": {
      "needs_background": "light"
     },
     "output_type": "display_data"
    }
   ],
   "source": [
    "# Replace non numeric values for nan\n",
    "df = df.apply(pd.to_numeric, errors='coerce')\n",
    "\n",
    "print(\"Null values\")\n",
    "sns.heatmap(df.isnull(), yticklabels=False,cbar=False,cmap='viridis')\n"
   ],
   "metadata": {
    "collapsed": false,
    "pycharm": {
     "name": "#%%\n",
     "is_executing": false
    }
   }
  },
  {
   "cell_type": "code",
   "execution_count": 169,
   "outputs": [
    {
     "name": "stdout",
     "text": [
      "Null and misintroduced values\n"
     ],
     "output_type": "stream"
    },
    {
     "data": {
      "text/plain": "<matplotlib.axes._subplots.AxesSubplot at 0x7f0565802438>"
     },
     "metadata": {},
     "output_type": "execute_result",
     "execution_count": 169
    },
    {
     "data": {
      "text/plain": "<Figure size 432x288 with 1 Axes>",
      "image/png": "[encoded data removed]"
     },
     "metadata": {
      "needs_background": "light"
     },
     "output_type": "display_data"
    }
   ],
   "source": [
    "# Replace misintroduced values for nan (or drop them if they \n",
    "# are in the majority class)\n",
    "for index, row in df.iterrows():\n",
    "    for c in df.columns:\n",
    "        if (c == 'birads' and (row[c] < 1 or row[c] > 5)) or \\\n",
    "           (c == 'age' and (row[c] < 8 or row[c] > 110)) or \\\n",
    "           (c == 'mass_shape' and (row[c] < 1 or row[c] > 4)) or \\\n",
    "           (c == 'mass_margin' and (row[c] < 1 or row[c] > 5)) or \\\n",
    "           (c == 'mass_density' and (row[c] < 1 or row[c] > 4)):\n",
    "            df.loc[index, c] = np.nan \n",
    "\n",
    "print(\"Null and misintroduced values\")\n",
    "sns.heatmap(df.isnull(), yticklabels=False,cbar=False,cmap='viridis')"
   ],
   "metadata": {
    "collapsed": false,
    "pycharm": {
     "name": "#%%\n",
     "is_executing": false
    }
   }
  },
  {
   "cell_type": "code",
   "execution_count": 170,
   "outputs": [
    {
     "name": "stdout",
     "text": [
      "There are more 71 records in class 0\n",
      "removing 71 indices\n",
      "Int64Index([ 83, 107,  88,  94, 262, 208, 371,  22, 339, 144, 133,   5, 460,\n",
      "            359, 784, 574, 665,   6, 128,  35, 105,  52, 372,  43,  47,  58,\n",
      "            103,  26, 142, 723, 541, 209, 116, 893, 121, 218, 100, 459, 298,\n",
      "             97, 476, 691, 277, 104, 127,  48, 421, 581, 305, 745, 126, 627,\n",
      "             55, 387, 187,  96, 707, 661, 163,  63,  65, 389, 394, 113, 171,\n",
      "            158,  53,  85,   7,  12, 255],\n",
      "           dtype='int64')\n"
     ],
     "output_type": "stream"
    }
   ],
   "source": [
    "# Now we will drop rows with null values that are in the majority class\n",
    "# Killing 2 birds with one stone here, since we'll have less\n",
    "# values to impute and we can contribute to balance the dataset\n",
    "\n",
    "majority_class = df['cancer'].value_counts().index[0]\n",
    "excess =  df['cancer'].value_counts()[0] - df['cancer'].value_counts()[1]\n",
    "print(f\"There are more {excess} records in class {majority_class}\")\n",
    "aux = df[df.isnull().any(axis=1)]\n",
    "excess_or_max = min(excess, aux[aux['cancer'] == majority_class].shape[0])\n",
    "indices = aux[aux['cancer'] == majority_class].sample(excess_or_max).index \n",
    "print(f\"removing {excess_or_max} indices\")\n",
    "print(indices)\n",
    "df.drop(indices, axis=0, inplace=True)"
   ],
   "metadata": {
    "collapsed": false,
    "pycharm": {
     "name": "#%%\n",
     "is_executing": false
    }
   }
  },
  {
   "cell_type": "code",
   "execution_count": 171,
   "outputs": [
    {
     "name": "stdout",
     "text": [
      "Test dataset:\n",
      "1    40\n",
      "0    40\n",
      "Name: cancer, dtype: int64\n",
      "Train dataset:\n",
      "1    405\n",
      "0    405\n",
      "Name: cancer, dtype: int64\n"
     ],
     "output_type": "stream"
    }
   ],
   "source": [
    "# Before we split the data, we have to scale it so that\n",
    "# There isn't a different value interval in train and test datasets\n",
    "# Since we are going to one-hot encode categorical data,\n",
    "# we only need to normalize one column (age)\n",
    "\n",
    "df['age'] -= df['age'].min()\n",
    "df['age'] /= df['age'].max()\n",
    "\n",
    "# We will separate the train/test before dealing with nul values\n",
    "# Because we don't want 'synthetic' values in the test dataset\n",
    "test_indices = df[df['cancer']==1].dropna().sample(40).index\n",
    "test_indices = np.concatenate([test_indices, df[df['cancer']== 0].dropna().sample(40).index])\n",
    "test = df.filter(test_indices, axis=0)\n",
    "train = df.drop(test_indices, axis=0)\n",
    "\n",
    "print(\"Test dataset:\")\n",
    "print(test['cancer'].value_counts())\n",
    "print(\"Train dataset:\")\n",
    "print(train['cancer'].value_counts())"
   ],
   "metadata": {
    "collapsed": false,
    "pycharm": {
     "name": "#%%\n",
     "is_executing": false
    }
   }
  },
  {
   "cell_type": "code",
   "execution_count": 172,
   "outputs": [
    {
     "data": {
      "text/plain": "<matplotlib.axes._subplots.AxesSubplot at 0x7f056587f470>"
     },
     "metadata": {},
     "output_type": "execute_result",
     "execution_count": 172
    },
    {
     "data": {
      "text/plain": "<Figure size 432x288 with 1 Axes>",
      "image/png": "[encoded data removed]"
     },
     "metadata": {
      "needs_background": "light"
     },
     "output_type": "display_data"
    }
   ],
   "source": [
    "# Let's make sure there are no null values in the test dataset\n",
    "sns.heatmap(test.isnull(), yticklabels=False,cbar=False,cmap='viridis')"
   ],
   "metadata": {
    "collapsed": false,
    "pycharm": {
     "name": "#%%\n",
     "is_executing": false
    }
   }
  },
  {
   "cell_type": "code",
   "execution_count": 173,
   "outputs": [
    {
     "data": {
      "text/plain": "   birads       age  mass_shape  mass_margin  mass_density  cancer\n0     5.0  0.628205         3.0          5.0           3.0     1.0\n1     4.0  0.320513         1.0          1.0           3.0     1.0\n2     4.0  0.128205         1.0          1.0           3.0     0.0\n3     5.0  0.717949         1.0          5.0           3.0     1.0\n4     5.0  0.500000         1.0          5.0           3.0     1.0",
      "text/html": "<div>\n<style scoped>\n    .dataframe tbody tr th:only-of-type {\n        vertical-align: middle;\n    }\n\n    .dataframe tbody tr th {\n        vertical-align: top;\n    }\n\n    .dataframe thead th {\n        text-align: right;\n    }\n</style>\n<table border=\"1\" class=\"dataframe\">\n  <thead>\n    <tr style=\"text-align: right;\">\n      <th></th>\n      <th>birads</th>\n      <th>age</th>\n      <th>mass_shape</th>\n      <th>mass_margin</th>\n      <th>mass_density</th>\n      <th>cancer</th>\n    </tr>\n  </thead>\n  <tbody>\n    <tr>\n      <th>0</th>\n      <td>5.0</td>\n      <td>0.628205</td>\n      <td>3.0</td>\n      <td>5.0</td>\n      <td>3.0</td>\n      <td>1.0</td>\n    </tr>\n    <tr>\n      <th>1</th>\n      <td>4.0</td>\n      <td>0.320513</td>\n      <td>1.0</td>\n      <td>1.0</td>\n      <td>3.0</td>\n      <td>1.0</td>\n    </tr>\n    <tr>\n      <th>2</th>\n      <td>4.0</td>\n      <td>0.128205</td>\n      <td>1.0</td>\n      <td>1.0</td>\n      <td>3.0</td>\n      <td>0.0</td>\n    </tr>\n    <tr>\n      <th>3</th>\n      <td>5.0</td>\n      <td>0.717949</td>\n      <td>1.0</td>\n      <td>5.0</td>\n      <td>3.0</td>\n      <td>1.0</td>\n    </tr>\n    <tr>\n      <th>4</th>\n      <td>5.0</td>\n      <td>0.500000</td>\n      <td>1.0</td>\n      <td>5.0</td>\n      <td>3.0</td>\n      <td>1.0</td>\n    </tr>\n  </tbody>\n</table>\n</div>"
     },
     "metadata": {},
     "output_type": "execute_result",
     "execution_count": 173
    },
    {
     "data": {
      "text/plain": "<Figure size 432x288 with 1 Axes>",
      "image/png": "[encoded data removed]"
     },
     "metadata": {
      "needs_background": "light"
     },
     "output_type": "display_data"
    }
   ],
   "source": [
    "from sklearn.impute import KNNImputer\n",
    "\n",
    "# We will use KNearestNeighbours to impute the missing values in our train dataset\n",
    "imputer = KNNImputer(n_neighbors=500, weights=\"uniform\")\n",
    "train = pd.DataFrame(imputer.fit_transform(train.values), columns = train.columns)\n",
    "\n",
    "# Round impuited categorical values \n",
    "# (Needed cause we will one hot encode them)\n",
    "for c in ['mass_shape', 'mass_margin', 'mass_density']:\n",
    "    train[c] = train[c].round(0)\n",
    "\n",
    "sns.heatmap(train.isnull(), yticklabels=False,cbar=False,cmap='viridis')\n",
    "\n",
    "train.head()"
   ],
   "metadata": {
    "collapsed": false,
    "pycharm": {
     "name": "#%%\n",
     "is_executing": false
    }
   }
  },
  {
   "cell_type": "code",
   "execution_count": 174,
   "outputs": [
    {
     "data": {
      "text/plain": "        age  mass_shape  mass_margin  mass_density  cancer\n0  0.628205         3.0          5.0           3.0     1.0\n1  0.320513         1.0          1.0           3.0     1.0\n2  0.128205         1.0          1.0           3.0     0.0\n3  0.717949         1.0          5.0           3.0     1.0\n4  0.500000         1.0          5.0           3.0     1.0",
      "text/html": "<div>\n<style scoped>\n    .dataframe tbody tr th:only-of-type {\n        vertical-align: middle;\n    }\n\n    .dataframe tbody tr th {\n        vertical-align: top;\n    }\n\n    .dataframe thead th {\n        text-align: right;\n    }\n</style>\n<table border=\"1\" class=\"dataframe\">\n  <thead>\n    <tr style=\"text-align: right;\">\n      <th></th>\n      <th>age</th>\n      <th>mass_shape</th>\n      <th>mass_margin</th>\n      <th>mass_density</th>\n      <th>cancer</th>\n    </tr>\n  </thead>\n  <tbody>\n    <tr>\n      <th>0</th>\n      <td>0.628205</td>\n      <td>3.0</td>\n      <td>5.0</td>\n      <td>3.0</td>\n      <td>1.0</td>\n    </tr>\n    <tr>\n      <th>1</th>\n      <td>0.320513</td>\n      <td>1.0</td>\n      <td>1.0</td>\n      <td>3.0</td>\n      <td>1.0</td>\n    </tr>\n    <tr>\n      <th>2</th>\n      <td>0.128205</td>\n      <td>1.0</td>\n      <td>1.0</td>\n      <td>3.0</td>\n      <td>0.0</td>\n    </tr>\n    <tr>\n      <th>3</th>\n      <td>0.717949</td>\n      <td>1.0</td>\n      <td>5.0</td>\n      <td>3.0</td>\n      <td>1.0</td>\n    </tr>\n    <tr>\n      <th>4</th>\n      <td>0.500000</td>\n      <td>1.0</td>\n      <td>5.0</td>\n      <td>3.0</td>\n      <td>1.0</td>\n    </tr>\n  </tbody>\n</table>\n</div>"
     },
     "metadata": {},
     "output_type": "execute_result",
     "execution_count": 174
    }
   ],
   "source": [
    "# Now that we have dealt with the null and misintroduced values,\n",
    "# we can drop the BI-RADS column since we won't be using it\n",
    "# (even though it was useful to impute missing data)\n",
    "train.drop('birads', axis=1, inplace=True)\n",
    "test.drop('birads', axis=1, inplace=True)\n",
    "\n",
    "# Data is already balanced because of the rows we discarded when\n",
    "# we searched for misintroduced values\n",
    "\n",
    "\n",
    "train.head()"
   ],
   "metadata": {
    "collapsed": false,
    "pycharm": {
     "name": "#%%\n",
     "is_executing": false
    }
   }
  },
  {
   "cell_type": "code",
   "execution_count": 175,
   "outputs": [
    {
     "data": {
      "text/plain": "<matplotlib.axes._subplots.AxesSubplot at 0x7f0565838f60>"
     },
     "metadata": {},
     "output_type": "execute_result",
     "execution_count": 175
    },
    {
     "data": {
      "text/plain": "<Figure size 432x288 with 1 Axes>",
      "image/png": "[encoded data removed]"
     },
     "metadata": {
      "needs_background": "light"
     },
     "output_type": "display_data"
    }
   ],
   "source": [
    "# Now let's take a closer at each feature individualy to see if\n",
    "# there's anything else we should deal with\n",
    "sns.boxplot(x='cancer', y='age', data=train)"
   ],
   "metadata": {
    "collapsed": false,
    "pycharm": {
     "name": "#%%\n",
     "is_executing": false
    }
   }
  },
  {
   "cell_type": "markdown",
   "source": [
    "As we could have guessed, patients that effectively have cancer tend to be older."
   ],
   "metadata": {
    "collapsed": false
   }
  },
  {
   "cell_type": "code",
   "execution_count": 176,
   "outputs": [
    {
     "data": {
      "text/plain": "array([<matplotlib.axes._subplots.AxesSubplot object at 0x7f056570ff60>,\n       <matplotlib.axes._subplots.AxesSubplot object at 0x7f056567ea58>],\n      dtype=object)"
     },
     "metadata": {},
     "output_type": "execute_result",
     "execution_count": 176
    },
    {
     "data": {
      "text/plain": "<Figure size 432x288 with 2 Axes>",
      "image/png": "[encoded data removed]"
     },
     "metadata": {
      "needs_background": "light"
     },
     "output_type": "display_data"
    }
   ],
   "source": [
    "train['mass_shape'].hist(train['cancer'], color='green',bins=4)"
   ],
   "metadata": {
    "collapsed": false,
    "pycharm": {
     "name": "#%%\n",
     "is_executing": false
    }
   }
  },
  {
   "cell_type": "code",
   "execution_count": 177,
   "outputs": [
    {
     "data": {
      "text/plain": "array([<matplotlib.axes._subplots.AxesSubplot object at 0x7f05655e7e80>,\n       <matplotlib.axes._subplots.AxesSubplot object at 0x7f05655b9f60>],\n      dtype=object)"
     },
     "metadata": {},
     "output_type": "execute_result",
     "execution_count": 177
    },
    {
     "data": {
      "text/plain": "<Figure size 432x288 with 2 Axes>",
      "image/png": "[encoded data removed]"
     },
     "metadata": {
      "needs_background": "light"
     },
     "output_type": "display_data"
    }
   ],
   "source": [
    "train['mass_margin'].hist(train['cancer'], color='green',bins=5)"
   ],
   "metadata": {
    "collapsed": false,
    "pycharm": {
     "name": "#%%\n",
     "is_executing": false
    }
   }
  },
  {
   "cell_type": "markdown",
   "source": [
    "Both mass shape and mass margin are features that seem to show a completely different distribution in cancer vs no-cancer cases."
   ],
   "metadata": {
    "collapsed": false
   }
  },
  {
   "cell_type": "code",
   "execution_count": 178,
   "outputs": [
    {
     "data": {
      "text/plain": "array([<matplotlib.axes._subplots.AxesSubplot object at 0x7f05654e8978>,\n       <matplotlib.axes._subplots.AxesSubplot object at 0x7f056550a470>],\n      dtype=object)"
     },
     "metadata": {},
     "output_type": "execute_result",
     "execution_count": 178
    },
    {
     "data": {
      "text/plain": "<Figure size 432x288 with 2 Axes>",
      "image/png": "[encoded data removed]"
     },
     "metadata": {
      "needs_background": "light"
     },
     "output_type": "display_data"
    }
   ],
   "source": [
    "train['mass_density'].hist(train['cancer'], color='green',bins=4)"
   ],
   "metadata": {
    "collapsed": false,
    "pycharm": {
     "name": "#%%\n",
     "is_executing": false
    }
   }
  },
  {
   "cell_type": "markdown",
   "source": [
    "Probably mass density isn't going to be much of a strong factor in the prediction.\n"
   ],
   "metadata": {
    "collapsed": false
   }
  },
  {
   "cell_type": "code",
   "execution_count": 179,
   "outputs": [],
   "source": [
    "for c in ['mass_shape', 'mass_margin', 'mass_density']:\n",
    "    for v in pd.concat([train, test], axis= 0)[c].unique():\n",
    "        train[f\"{c}_{v}\"] =  [1 if x == v else 0 for x in train[c]]\n",
    "        test[f\"{c}_{v}\"] =  [1 if x == v else 0 for x in test[c]]\n",
    "    train.drop(c, axis=1, inplace=True)\n",
    "    test.drop(c, axis=1, inplace=True)\n"
   ],
   "metadata": {
    "collapsed": false,
    "pycharm": {
     "name": "#%% One hot encoding\n",
     "is_executing": false
    }
   }
  },
  {
   "cell_type": "code",
   "execution_count": 180,
   "outputs": [],
   "source": [
    "# Everything seems to be fine\n",
    "# Finally, we just write both dataset into csv files \n",
    "train.to_csv(\"../data/train.csv\", index=False)\n",
    "test.to_csv(\"../data/test.csv\", index=False)"
   ],
   "metadata": {
    "collapsed": false,
    "pycharm": {
     "name": "#%%\n",
     "is_executing": false
    }
   }
  }
 ],
 "metadata": {
  "kernelspec": {
   "name": "python3",
   "language": "python",
   "display_name": "Python 3"
  },
  "language_info": {
   "codemirror_mode": {
    "name": "ipython",
    "version": 2
   },
   "file_extension": ".py",
   "mimetype": "text/x-python",
   "name": "python",
   "nbconvert_exporter": "python",
   "pygments_lexer": "ipython2",
   "version": "2.7.6"
  },
  "pycharm": {
   "stem_cell": {
    "cell_type": "raw",
    "source": [],
    "metadata": {
     "collapsed": false
    }
   }
  }
 },
 "nbformat": 4,
 "nbformat_minor": 0
}